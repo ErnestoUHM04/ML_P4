{
 "cells": [
  {
   "cell_type": "code",
   "execution_count": 1,
   "id": "d78434f6-4006-4a14-8bba-e1b5cb5407ce",
   "metadata": {},
   "outputs": [],
   "source": [
    "# P4 Machine Learning\n",
    "# Ernesto Ulises Hernández Martínez\n",
    "# Not Supervised learning\n",
    "import os\n",
    "import pandas as pd\n",
    "import numpy as np\n",
    "import sklearn\n",
    "import matplotlib.pyplot as plt\n",
    "import sys\n",
    "#print(sys.executable)\n",
    "\n",
    "# we are going to be using 4 regressors\n",
    "from sklearn.ensemble import RandomForestRegressor\n",
    "from sklearn.neighbors import KNeighborsRegressor\n",
    "from sklearn.linear_model import LinearRegression\n",
    "from sklearn.neural_network import MLPRegressor"
   ]
  },
  {
   "cell_type": "code",
   "execution_count": 2,
   "id": "8e032d88-d577-46d1-8208-a70efe848c4c",
   "metadata": {},
   "outputs": [],
   "source": [
    "# Lets first work with the Iris Dataset\n",
    "# for not supervised learning we dont tell the machine the class of each instance\n",
    "iris = pd.read_csv(\"../data/iris/iris.data\", header = None)\n",
    "iris.columns = ['sepal_length', 'sepal_width', 'petal_length', 'petal_width', 'species']\n",
    "#iris.head() # check it\n",
    "#iris.info()\n",
    "#iris.describe()"
   ]
  },
  {
   "cell_type": "code",
   "execution_count": 3,
   "id": "da24eca3-9ecd-4f1c-a4d0-b1f9ceafe31c",
   "metadata": {},
   "outputs": [],
   "source": [
    "# Boston Housing Dataset\n",
    "boston = pd.read_csv(\"../data/boston/housing.csv\", header = None, delimiter = r\"\\s+\")\n",
    "boston.columns = ['CRIM', 'ZN', 'INDUS', 'CHAS', 'NOX', 'RM', 'AGE', 'DIS', 'RAD', 'TAX', 'PTRATIO', 'B', 'LSTAT', 'MEDV']\n",
    "# the meaning of this columns is going to be explained in the report document\n",
    "#boston.head() "
   ]
  },
  {
   "cell_type": "code",
   "execution_count": null,
   "id": "b07bddc9-000e-4091-8bb0-c0b3850d13e6",
   "metadata": {},
   "outputs": [],
   "source": [
    "# Diabetes Dataset\n",
    "diabetes = pd.read_csv(\"../data/diabetes/diabetes.csv\")\n",
    "#diabetes.head()"
   ]
  },
  {
   "cell_type": "code",
   "execution_count": null,
   "id": "da35c3ce-1a23-4725-a45d-f348964cdeb4",
   "metadata": {},
   "outputs": [],
   "source": [
    "# Wine Quality Dataset\n",
    "# there is red and white wine data\n",
    "red = pd.read_csv(\"../data/wine+quality/winequality-red.csv\", sep = ';')\n",
    "#red.head()\n",
    "white = pd.read_csv(\"../data/wine+quality/winequality-white.csv\", sep = ';')\n",
    "#white.head()\n",
    "red['type'] = 'red'\n",
    "white['type'] = 'white'\n",
    "\n",
    "wine = pd.concat([red, white], ignore_index = True)\n",
    "#white.head()\n",
    "# Check\n",
    "#print(wine.head())\n",
    "#print(wine['type'].value_counts())"
   ]
  },
  {
   "cell_type": "code",
   "execution_count": null,
   "id": "819351ba-d4a2-4533-afd8-f9786eae0900",
   "metadata": {},
   "outputs": [],
   "source": [
    "# Car Price Prediction Dataset\n",
    "cars = pd.read_csv(\"../data/cars/car_prediction_data.csv\")\n",
    "#cars.head()"
   ]
  },
  {
   "cell_type": "code",
   "execution_count": null,
   "id": "b264d75d-51ab-402d-8d91-4a2a76791bc2",
   "metadata": {},
   "outputs": [],
   "source": [
    "# Concrete Compressive Dataset\n",
    "concrete = pd.read_excel(\"../data/concrete+compressive+strength/Concrete_Data.xls\")\n",
    "# despite the dataset having header, is super large, so we will reduce it a little bit\n",
    "concrete.columns = ['cement', 'blast_furnance_slag', 'fly_ash', 'water', 'superplasticizer', 'coarse_aggregate', 'fine_aggregate', 'age', 'concrete_compressive_strength']\n",
    "#concrete.head()"
   ]
  }
 ],
 "metadata": {
  "kernelspec": {
   "display_name": "Python (mlescom)",
   "language": "python",
   "name": "mlescom"
  },
  "language_info": {
   "codemirror_mode": {
    "name": "ipython",
    "version": 3
   },
   "file_extension": ".py",
   "mimetype": "text/x-python",
   "name": "python",
   "nbconvert_exporter": "python",
   "pygments_lexer": "ipython3",
   "version": "3.13.7"
  }
 },
 "nbformat": 4,
 "nbformat_minor": 5
}
