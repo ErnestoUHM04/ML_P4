{
 "cells": [
  {
   "cell_type": "code",
   "execution_count": 1,
   "id": "582afe9d-df9c-4dd8-bff7-a7e1b9c92a50",
   "metadata": {},
   "outputs": [],
   "source": [
    "# P4 Machine Learning\n",
    "# Ernesto Ulises Hernández Martínez\n",
    "# Supervised learning\n",
    "import os\n",
    "import pandas as pd\n",
    "import numpy as np\n",
    "import sklearn\n",
    "import matplotlib.pyplot as plt\n",
    "import sys\n",
    "#print(sys.executable)\n",
    "\n",
    "# we are going to be using 4 regressors\n",
    "from sklearn.ensemble import RandomForestRegressor\n",
    "from sklearn.neighbors import KNeighborsRegressor\n",
    "from sklearn.linear_model import LinearRegression\n",
    "from sklearn.neural_network import MLPRegressor"
   ]
  },
  {
   "cell_type": "code",
   "execution_count": 2,
   "id": "d071230c-804e-480c-84b5-85f619c0d785",
   "metadata": {},
   "outputs": [],
   "source": [
    "# Iris Dataset\n",
    "iris = pd.read_csv(\"../data/iris/iris.data\", header = None)\n",
    "iris.columns = ['sepal_length', 'sepal_width', 'petal_length', 'petal_width', 'species']\n",
    "#iris.head() # check it\n",
    "#iris.info()\n",
    "#iris.describe()"
   ]
  },
  {
   "cell_type": "code",
   "execution_count": 3,
   "id": "daa975de-897b-4aca-be3d-62d798bb14e0",
   "metadata": {},
   "outputs": [],
   "source": [
    "# Boston Housing Dataset\n",
    "boston = pd.read_csv(\"../data/boston/housing.csv\", header = None, delimiter = r\"\\s+\")\n",
    "boston.columns = ['CRIM', 'ZN', 'INDUS', 'CHAS', 'NOX', 'RM', 'AGE', 'DIS', 'RAD', 'TAX', 'PTRATIO', 'B', 'LSTAT', 'MEDV']\n",
    "# the meaning of this columns is going to be explained in the report document\n",
    "#boston.head() "
   ]
  },
  {
   "cell_type": "code",
   "execution_count": 4,
   "id": "f0ff0a94-8b4e-43bb-9a63-4afc946e7b8a",
   "metadata": {},
   "outputs": [],
   "source": [
    "# Diabetes Dataset\n",
    "diabetes = pd.read_csv(\"../data/diabetes/diabetes.csv\")\n",
    "#diabetes.head()"
   ]
  },
  {
   "cell_type": "code",
   "execution_count": 5,
   "id": "b8652b89-6c3e-4895-b47f-188c10675375",
   "metadata": {},
   "outputs": [],
   "source": [
    "# Wine Quality Dataset\n",
    "# there is red and white wine data\n",
    "red = pd.read_csv(\"../data/wine+quality/winequality-red.csv\", sep = ';')\n",
    "#red.head()\n",
    "white = pd.read_csv(\"../data/wine+quality/winequality-white.csv\", sep = ';')\n",
    "#white.head()\n",
    "red['type'] = 'red'\n",
    "white['type'] = 'white'\n",
    "\n",
    "wine = pd.concat([red, white], ignore_index = True)\n",
    "#white.head()\n",
    "# Check\n",
    "#print(wine.head())\n",
    "#print(wine['type'].value_counts())"
   ]
  },
  {
   "cell_type": "code",
   "execution_count": 6,
   "id": "ec2903e1-4b87-4139-80be-fe2df71572f8",
   "metadata": {},
   "outputs": [],
   "source": [
    "# Car Price Prediction Dataset\n",
    "cars = pd.read_csv(\"../data/cars/car_prediction_data.csv\")\n",
    "#cars.head()"
   ]
  },
  {
   "cell_type": "code",
   "execution_count": 7,
   "id": "f2c58438-389e-4017-a5f4-19b25e890f69",
   "metadata": {},
   "outputs": [],
   "source": [
    "# Concrete Compressive Dataset\n",
    "concrete = pd.read_excel(\"../data/concrete+compressive+strength/Concrete_Data.xls\")\n",
    "# despite the dataset having header, is super large, so we will reduce it a little bit\n",
    "concrete.columns = ['cement', 'blast_furnance_slag', 'fly_ash', 'water', 'superplasticizer', 'coarse_aggregate', 'fine_aggregate', 'age', 'concrete_compressive_strength']\n",
    "#concrete.head()"
   ]
  },
  {
   "cell_type": "code",
   "execution_count": null,
   "id": "edc17cd8-8eb4-4a7c-8b70-4bf2adb5298b",
   "metadata": {},
   "outputs": [],
   "source": []
  }
 ],
 "metadata": {
  "kernelspec": {
   "display_name": "Python (mlescom)",
   "language": "python",
   "name": "mlescom"
  },
  "language_info": {
   "codemirror_mode": {
    "name": "ipython",
    "version": 3
   },
   "file_extension": ".py",
   "mimetype": "text/x-python",
   "name": "python",
   "nbconvert_exporter": "python",
   "pygments_lexer": "ipython3",
   "version": "3.13.7"
  }
 },
 "nbformat": 4,
 "nbformat_minor": 5
}
